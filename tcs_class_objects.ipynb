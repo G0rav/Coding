{
  "nbformat": 4,
  "nbformat_minor": 0,
  "metadata": {
    "colab": {
      "name": "tcs_class_objects.ipynb",
      "provenance": [],
      "collapsed_sections": [],
      "authorship_tag": "ABX9TyO1mY5q+48R8nzDROoqfmnf"
    },
    "kernelspec": {
      "name": "python3",
      "display_name": "Python 3"
    },
    "language_info": {
      "name": "python"
    }
  },
  "cells": [
    {
      "cell_type": "markdown",
      "metadata": {
        "id": "JwFS4YdiCdDk"
      },
      "source": [
        "# Sample Questions\n",
        "\n",
        "https://www.computerdeveloper.in/2021/04/tcs-xplore-ira-08-mar-2021-python-coding-question.html\n",
        "\n",
        "https://www.computerdeveloper.in/2021/04/tcs-xplore-ira-08-mar-2021-python-coding-question.html"
      ]
    },
    {
      "cell_type": "code",
      "metadata": {
        "id": "suIyz0LZvnc1",
        "colab": {
          "base_uri": "https://localhost:8080/",
          "height": 1000
        },
        "outputId": "6c8edb56-ad58-42bf-c766-595f567144ec"
      },
      "source": [
        "class Venue:\n",
        "  def __init__(self, venue_id, name, cost, Type, request_trend, status):\n",
        "    self.venue_id = venue_id\n",
        "    self.name = name       \n",
        "    self.cost = cost\n",
        "    self.Type = Type\n",
        "    self.request_trend = request_trend           #list\n",
        "    self.status = status\n",
        "\n",
        "\n",
        "class Event:\n",
        "  def __init__(self, venue, type_perc):\n",
        "    self.venue = venue                 #list of venue objects\n",
        "    self.type_perc = type_perc           #dict\n",
        "\n",
        "  def cost(self, venue_id):\n",
        "    for v in self.venue:\n",
        "      if v.venue_id != venue_id:\n",
        "        continue\n",
        "      else:\n",
        "        avg = sum(v.request_trend)/7\n",
        "        if avg >6:\n",
        "          c = v.cost\n",
        "          if v.Type in self.type_perc.keys():\n",
        "            surge_perc = self.type_perc[v.Type]\n",
        "            \n",
        "            c = c + c*(surge_perc/100)\n",
        "      return c\n",
        "\n",
        "  def find(self):\n",
        "    v_available = []\n",
        "    for v in self.venue:\n",
        "      if v.status == 'Available':\n",
        "        v_available.append([v, v.cost])\n",
        "\n",
        "    v_available_sort = sorted(v_available, key = lambda x: x[1])\n",
        "    \n",
        "    output = [v_available_sort[0]]\n",
        "\n",
        "    for i in v_available_sort[1:]:\n",
        "      if i[1] == output[-1][1]:\n",
        "        output.append(i)\n",
        "      else:\n",
        "        break\n",
        "\n",
        "    return output\n",
        "\n",
        "\n",
        "\n",
        "if __name__ == '__main__':\n",
        "  input_venue = []\n",
        "\n",
        "  no_of_venue = int(input())\n",
        "  for i in range(no_of_venue):\n",
        "    venue_id = int(input())\n",
        "    venue_name = input()\n",
        "    venue_cost = float(input())\n",
        "    venue_type = input()\n",
        "\n",
        "    request_trend = []\n",
        "    for _ in range(7):\n",
        "      request_trend.append(int(input()))\n",
        "\n",
        "    status = input()\n",
        "\n",
        "    input_venue.append([venue_id, venue_name, venue_cost, venue_type, request_trend, status])\n",
        "\n",
        "  venue_type_per = {}\n",
        "  for _ in range(3):\n",
        "    vtype = input()\n",
        "    per = float(input())\n",
        "    venue_type_per[vtype] = per\n",
        "\n",
        "  input_venue_id = int(input())\n",
        "\n",
        "\n",
        "  # logic\n",
        "  venue = []\n",
        "  for venue_list in input_venue:\n",
        "    obj = Venue(\n",
        "        venue_list[0],\n",
        "        venue_list[1],\n",
        "        venue_list[2],\n",
        "        venue_list[3],\n",
        "        venue_list[4],\n",
        "        venue_list[5],\n",
        "    )\n",
        "    venue.append(obj)\n",
        "\n",
        "  # call event\n",
        "  event1 =  Event(venue, venue_type_per)\n",
        "  Cost = event1.cost(input_venue_id)\n",
        "\n",
        "  if Cost is not None:\n",
        "    print(Cost)\n",
        "  else:\n",
        "    print('Wrong id')\n",
        "\n",
        "  output = event1.find()\n",
        "  available_venues = []\n",
        "\n",
        "  for i in output:\n",
        "    available_venues.append([i[0].name,i[1]])\n",
        "\n",
        "  available_venues = sorted(available_venues, key = lambda x: x[0])\n",
        "\n"
      ],
      "execution_count": 10,
      "outputs": [
        {
          "output_type": "stream",
          "name": "stdout",
          "text": [
            "5\n",
            "101\n",
            "mead spa\n",
            "500000\n",
            "BH\n",
            "12\n",
            "13\n",
            "10\n",
            "18\n",
            "15\n",
            "8\n",
            "5\n",
            "Booked\n",
            "102\n",
            "Ellison\n",
            "150000\n",
            "RT\n",
            "12\n",
            "5\n",
            "5\n",
            "6\n",
            "5\n",
            "6\n",
            "8\n",
            "Booked\n",
            "103\n",
            "Gla Ven\n",
            "100000\n",
            "D\n",
            "12\n",
            "10\n",
            "10\n",
            "12\n",
            "12\n",
            "12\n",
            "5\n",
            "Booked\n",
            "104\n",
            "Rajd\n",
            "250000\n",
            "D\n",
            "12\n",
            "10\n",
            "10\n",
            "12\n",
            "12\n",
            "12\n",
            "5\n",
            "Booked\n",
            "105\n",
            "Maur\n",
            "300000\n",
            "D\n",
            "10\n",
            "8\n",
            "7\n",
            "5\n",
            "5\n",
            "6\n",
            "8\n",
            "Available\n",
            "BH\n",
            "10\n",
            "RT\n",
            "50\n",
            "D\n",
            "20\n",
            "110\n",
            "None\n"
          ]
        },
        {
          "output_type": "error",
          "ename": "TypeError",
          "evalue": "ignored",
          "traceback": [
            "\u001b[0;31m---------------------------------------------------------------------------\u001b[0m",
            "\u001b[0;31mTypeError\u001b[0m                                 Traceback (most recent call last)",
            "\u001b[0;32m<ipython-input-10-2b1e521a76f1>\u001b[0m in \u001b[0;36m<module>\u001b[0;34m()\u001b[0m\n\u001b[1;32m     98\u001b[0m \u001b[0;34m\u001b[0m\u001b[0m\n\u001b[1;32m     99\u001b[0m   \u001b[0;32mfor\u001b[0m \u001b[0mi\u001b[0m \u001b[0;32min\u001b[0m \u001b[0moutput\u001b[0m\u001b[0;34m:\u001b[0m\u001b[0;34m\u001b[0m\u001b[0;34m\u001b[0m\u001b[0m\n\u001b[0;32m--> 100\u001b[0;31m     \u001b[0mavailable_venues\u001b[0m\u001b[0;34m(\u001b[0m\u001b[0;34m[\u001b[0m\u001b[0mi\u001b[0m\u001b[0;34m[\u001b[0m\u001b[0;36m0\u001b[0m\u001b[0;34m]\u001b[0m\u001b[0;34m.\u001b[0m\u001b[0mname\u001b[0m\u001b[0;34m,\u001b[0m\u001b[0mi\u001b[0m\u001b[0;34m[\u001b[0m\u001b[0;36m1\u001b[0m\u001b[0;34m]\u001b[0m\u001b[0;34m]\u001b[0m\u001b[0;34m)\u001b[0m\u001b[0;34m\u001b[0m\u001b[0;34m\u001b[0m\u001b[0m\n\u001b[0m\u001b[1;32m    101\u001b[0m \u001b[0;34m\u001b[0m\u001b[0m\n\u001b[1;32m    102\u001b[0m   \u001b[0mavailable_venues\u001b[0m \u001b[0;34m=\u001b[0m \u001b[0msorted\u001b[0m\u001b[0;34m(\u001b[0m\u001b[0mavailable_venues\u001b[0m\u001b[0;34m,\u001b[0m \u001b[0mkey\u001b[0m \u001b[0;34m=\u001b[0m \u001b[0;32mlambda\u001b[0m \u001b[0mx\u001b[0m\u001b[0;34m:\u001b[0m \u001b[0mx\u001b[0m\u001b[0;34m[\u001b[0m\u001b[0;36m0\u001b[0m\u001b[0;34m]\u001b[0m\u001b[0;34m)\u001b[0m\u001b[0;34m\u001b[0m\u001b[0;34m\u001b[0m\u001b[0m\n",
            "\u001b[0;31mTypeError\u001b[0m: 'list' object is not callable"
          ]
        }
      ]
    },
    {
      "cell_type": "code",
      "metadata": {
        "id": "5kEAwndivr3y"
      },
      "source": [
        ""
      ],
      "execution_count": null,
      "outputs": []
    },
    {
      "cell_type": "code",
      "metadata": {
        "id": "2PcP5t-Vvr9G"
      },
      "source": [
        ""
      ],
      "execution_count": null,
      "outputs": []
    },
    {
      "cell_type": "code",
      "metadata": {
        "id": "4EuomYEUvr_p"
      },
      "source": [
        ""
      ],
      "execution_count": null,
      "outputs": []
    },
    {
      "cell_type": "code",
      "metadata": {
        "id": "BDBA9a7Vx7tI"
      },
      "source": [
        ""
      ],
      "execution_count": null,
      "outputs": []
    },
    {
      "cell_type": "code",
      "metadata": {
        "id": "yPTBkpa6x7vg"
      },
      "source": [
        ""
      ],
      "execution_count": null,
      "outputs": []
    },
    {
      "cell_type": "code",
      "metadata": {
        "id": "K_OWi7iZx7yV"
      },
      "source": [
        ""
      ],
      "execution_count": null,
      "outputs": []
    },
    {
      "cell_type": "code",
      "metadata": {
        "id": "SAkYwTY1x70T"
      },
      "source": [
        ""
      ],
      "execution_count": null,
      "outputs": []
    },
    {
      "cell_type": "code",
      "metadata": {
        "id": "gNSSXCDuvsCI"
      },
      "source": [
        "x = None\n",
        "if x is not None:\n",
        "  print(1)"
      ],
      "execution_count": 11,
      "outputs": []
    }
  ]
}